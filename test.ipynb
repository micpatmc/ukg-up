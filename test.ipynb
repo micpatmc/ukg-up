{
 "cells": [
  {
   "cell_type": "code",
   "execution_count": 42,
   "metadata": {},
   "outputs": [],
   "source": [
    "import os\n",
    "import openai\n",
    "import json\n",
    "\n",
    "from dotenv import load_dotenv\n",
    "load_dotenv() \n",
    "\n",
    "openai.api_key = os.getenv(\"OPENAI_API_KEY\")"
   ]
  },
  {
   "cell_type": "code",
   "execution_count": null,
   "metadata": {},
   "outputs": [],
   "source": [
    "res = openai.ChatCompletion.create(\n",
    "    model=\"gpt-3.5-turbo-0613\",\n",
    "    messages=[\n",
    "        {\"role\": \"user\", \"content\": \"Hi my name is Earl, how are you?\"}\n",
    "    ],\n",
    "    functions=[\n",
    "\n",
    "        {\n",
    "            \"name\": \"translateToSpanish\",\n",
    "            \"description\": \"Translate to spanish\",\n",
    "            \"parameters\": {\n",
    "                'title': 'StepByStepAIResponse',\n",
    "                'type': 'object',\n",
    "                'properties': {'english': {'title': 'english', 'type': 'string'},\n",
    "                               'spanish': {'title': 'spanish', 'type': 'string'}},\n",
    "                'required': ['english', 'spanish']\n",
    "            }\n",
    "        }\n",
    "    ],\n",
    "    function_call={\"name\": \"translateToSpanish\"}\n",
    ")"
   ]
  },
  {
   "cell_type": "code",
   "execution_count": null,
   "metadata": {},
   "outputs": [],
   "source": [
    "print(res.choices[0][\"message\"][\"function_call\"][\"arguments\"])"
   ]
  },
  {
   "attachments": {},
   "cell_type": "markdown",
   "metadata": {},
   "source": [
    "first step is to get intent or http verb\n",
    "extract the target\n",
    "query the database for target\n",
    "extract params\n",
    "build the api call\n",
    "confirmwith the user\n",
    "call the api\n",
    "display api call status"
   ]
  },
  {
   "attachments": {},
   "cell_type": "markdown",
   "metadata": {},
   "source": [
    "Here I can extract the HTTP VERB from the context, might need to adjust to work well with UKG's APIs"
   ]
  },
  {
   "cell_type": "code",
   "execution_count": 37,
   "metadata": {},
   "outputs": [
    {
     "name": "stdout",
     "output_type": "stream",
     "text": [
      "{\n",
      "  \"method\": \"delete\"\n",
      "}\n"
     ]
    }
   ],
   "source": [
    "res = openai.ChatCompletion.create(\n",
    "        model=\"gpt-3.5-turbo-0613\",\n",
    "        messages=[\n",
    "            {\"role\": \"system\",\n",
    "                \"content\": \"Only respond with the following http methods get, post, put or delete based on the user response\"},\n",
    "            {\"role\": \"user\", \"content\": \"terminate john dowe\"}\n",
    "        ],\n",
    "        functions=[\n",
    "\n",
    "            {\n",
    "                \"name\": \"extractHttpMethod\",\n",
    "                \"description\": \"only return get, post, put or delete\",\n",
    "                \"parameters\": {\n",
    "                    'title': 'HTTP Method Response',\n",
    "                    'type': 'object',\n",
    "                    'properties': {'method': {'title': 'method', 'type': 'string'}},\n",
    "                    'required': ['method']\n",
    "                }\n",
    "            }\n",
    "        ],\n",
    "        function_call={\"name\": \"extractHttpMethod\"}\n",
    "    )\n",
    "print(res.choices[0][\"message\"][\"function_call\"][\"arguments\"])\n"
   ]
  },
  {
   "cell_type": "code",
   "execution_count": 24,
   "metadata": {},
   "outputs": [
    {
     "data": {
      "text/plain": [
       "'test'"
      ]
     },
     "execution_count": 24,
     "metadata": {},
     "output_type": "execute_result"
    }
   ],
   "source": [
    "def promptToHTTPVerb(prompt):\n",
    "    return eval(openai.ChatCompletion.create(\n",
    "        model=\"gpt-3.5-turbo-0613\",\n",
    "        messages=[\n",
    "            {\"role\": \"assistant\",\n",
    "                \"content\": \"Only respond in HTTP Verbs such as GET, POST, PUT and DELETE\"},\n",
    "            {\"role\": \"user\", \"content\": prompt}\n",
    "        ],\n",
    "        functions=[\n",
    "\n",
    "            {\n",
    "                \"name\": \"promptToHTTPVerb\",\n",
    "                \"description\": \"Extract the http verb from the string and return only a single http verb\",\n",
    "                \"parameters\": {\n",
    "                    'title': 'Single AI Response',\n",
    "                    'type': 'object',\n",
    "                    'properties': {'verb': {'title': 'verb', 'type': 'string'}},\n",
    "                    'required': ['verb']\n",
    "                }\n",
    "            }\n",
    "        ],\n",
    "        function_call={\"name\": \"promptToHTTPVerb\"}\n",
    "    ).choices[0][\"message\"][\"function_call\"][\"arguments\"])[\"verb\"]\n",
    "\n",
    "\n",
    "promptToHTTPVerb(\"test\")"
   ]
  },
  {
   "attachments": {},
   "cell_type": "markdown",
   "metadata": {},
   "source": [
    "Here I can extract the subject of the users reply"
   ]
  },
  {
   "cell_type": "code",
   "execution_count": 9,
   "metadata": {},
   "outputs": [
    {
     "name": "stdout",
     "output_type": "stream",
     "text": [
      "{\n",
      "  \"subject\": \"John Snow\"\n",
      "}\n"
     ]
    }
   ],
   "source": [
    "res = openai.ChatCompletion.create(\n",
    "    model=\"gpt-3.5-turbo-0613\",\n",
    "    messages=[\n",
    "        {\"role\":\"assistant\",\"content\":\"Only respond with the name of the subject of the message.\"},\n",
    "        {\"role\": \"user\", \"content\": \"My name is Kunta Kinte, Who is John Snow?\"}\n",
    "    ],\n",
    "    functions=[\n",
    "        {\n",
    "            \"name\": \"extractSubject\",\n",
    "            \"description\": \"Extract the subject of a users reply\",\n",
    "            \"parameters\": {\n",
    "                'title': 'Single AI Response',\n",
    "                'type': 'object',\n",
    "                'properties': {'subject': {'title': 'subject', 'type': 'string'}},\n",
    "                'required': ['subject']\n",
    "            }\n",
    "        }\n",
    "    ],\n",
    "    function_call={\"name\": \"extractSubject\"}\n",
    ")\n",
    "print(res.choices[0][\"message\"][\"function_call\"][\"arguments\"])"
   ]
  },
  {
   "cell_type": "code",
   "execution_count": 10,
   "metadata": {},
   "outputs": [],
   "source": [
    "def extractSubject(prompt):\n",
    "    return openai.ChatCompletion.create(\n",
    "        model=\"gpt-3.5-turbo-0613\",\n",
    "        messages=[\n",
    "            {\"role\": \"assistant\",\n",
    "                \"content\": \"Only respond with the name of the subject of the message.\"},\n",
    "            {\"role\": \"user\", \"content\": \"My name is Kunta Kinte, Who is John Snow?\"}\n",
    "        ],\n",
    "        functions=[\n",
    "            {\n",
    "                \"name\": \"extractSubject\",\n",
    "                \"description\": \"Extract the subject of a users reply\",\n",
    "                \"parameters\": {\n",
    "                    'title': 'Single AI Response',\n",
    "                    'type': 'object',\n",
    "                    'properties': {'subject': {'title': 'subject', 'type': 'string'}},\n",
    "                    'required': ['subject']\n",
    "                }\n",
    "            }\n",
    "        ],\n",
    "        function_call={\"name\": \"extractSubject\"}\n",
    "    ).choices[0][\"message\"][\"function_call\"][\"arguments\"]\n"
   ]
  },
  {
   "attachments": {},
   "cell_type": "markdown",
   "metadata": {},
   "source": [
    "Here I try to generate the params fo send a get request to the UKG API"
   ]
  },
  {
   "cell_type": "code",
   "execution_count": null,
   "metadata": {},
   "outputs": [],
   "source": [
    "res = openai.ChatCompletion.create(\n",
    "    model=\"gpt-3.5-turbo-0613\",\n",
    "    messages=[\n",
    "        {\"role\": \"system\", \"content\": \"Only respond with the name of the subject of the message.\"},\n",
    "        {\"role\": \"user\", \"content\": \"My name is Kunta Kinte, Who is John Snow?\"}\n",
    "    ],\n",
    "    functions=[\n",
    "        {\n",
    "            \"name\": \"generateParamsObject\",\n",
    "            \"description\": \"Generate an object that stores the firstName and LastName\",\n",
    "            \"parameters\": {\n",
    "                'title': 'Single AI Response',\n",
    "                'type': 'object',\n",
    "                'properties': {\n",
    "                    'firstName': {'title': 'firstName', 'type': 'string'}, \n",
    "                    'lastName': {'title': 'lastName', 'type': 'string'}\n",
    "                    },\n",
    "                'required': ['firstName', 'lastName']\n",
    "            }\n",
    "        }\n",
    "    ],\n",
    "    function_call={\"name\": \"generateParamsObject\"}\n",
    ")\n",
    "print(res.choices[0][\"message\"][\"function_call\"][\"arguments\"])\n"
   ]
  },
  {
   "cell_type": "code",
   "execution_count": 45,
   "metadata": {},
   "outputs": [
    {
     "name": "stdout",
     "output_type": "stream",
     "text": [
      "<class 'bool'>\n"
     ]
    }
   ],
   "source": [
    "res = openai.ChatCompletion.create(\n",
    "    model=\"gpt-3.5-turbo-0613\",\n",
    "    messages=[\n",
    "        {\"role\":\"system\",\"content\":'''Only respond with 'true' or 'false' given a user message.\n",
    "         if user response is nope, then respond false,if user response is no, then respond false,'''},\n",
    "        {\"role\": \"user\", \"content\": \"heck no\"}\n",
    "    ],\n",
    "    functions=[\n",
    "        {\n",
    "            \"name\": \"trueOrFalse\",\n",
    "            \"description\": \"return 'true' if response is positive or affirmative, otherwise return 'false' if response is not positive or not affirmative\",\n",
    "            \"parameters\": {\n",
    "                'title': 'true/false response',\n",
    "                'type': 'object',\n",
    "                'properties': {'boolean': {'title': 'boolean', 'type': 'boolean'}},\n",
    "                'required': ['boolean']\n",
    "            }\n",
    "        }\n",
    "    ],\n",
    "    function_call={\"name\": \"trueOrFalse\"}\n",
    ")\n",
    "print(type(json.loads(res.choices[0][\"message\"][\"function_call\"][\"arguments\"])['boolean']))"
   ]
  },
  {
   "cell_type": "code",
   "execution_count": 11,
   "metadata": {},
   "outputs": [],
   "source": [
    "def postRoute(chats):\n",
    "    subject =  extractSubject\n",
    "    print('this worked')"
   ]
  },
  {
   "cell_type": "code",
   "execution_count": 13,
   "metadata": {},
   "outputs": [
    {
     "name": "stdout",
     "output_type": "stream",
     "text": [
      "{\n",
      "  \"verb\": \"PUT\"\n",
      "}\n"
     ]
    }
   ],
   "source": [
    "chats = [\n",
    "    {\"role\": \"system\", \"content\": \"you are a helpful assistant\"},\n",
    "    {\"role\": \"assistant\", \"content\": \"How may I help you\"},\n",
    "]\n",
    "\n",
    "prompt = input(\"What do you want\")\n",
    "chats.append({\"role\": \"user\", \"content\": prompt})\n",
    "\n",
    "verb = promptToHTTPVerb(prompt)\n",
    "print(verb)\n",
    "\n",
    "if verb == 'GET':\n",
    "    pass\n",
    "elif verb == 'POST':\n",
    "    postRoute()\n",
    "elif verb == 'PUT':\n",
    "    pass\n",
    "elif verb == 'DELETE':\n",
    "    pass\n",
    "else:\n",
    "    pass\n",
    "\n"
   ]
  },
  {
   "cell_type": "code",
   "execution_count": 46,
   "metadata": {},
   "outputs": [
    {
     "name": "stdout",
     "output_type": "stream",
     "text": [
      "{\n",
      "  \"summary\": \"You would like to update John Snow to Jon Dowe. Would you like to proceed?\"\n",
      "}\n"
     ]
    }
   ],
   "source": [
    "res = openai.ChatCompletion.create(\n",
    "    model=\"gpt-3.5-turbo-0613\",\n",
    "    messages=[\n",
    "        {\"role\":\"assistant\",\"content\":\"rephrase the user response and ask them if they would like to proceed\"},\n",
    "        {\"role\": \"user\", \"content\": \"update john snow to jon dowe\"}\n",
    "    ],\n",
    "    functions=[\n",
    "        {\n",
    "            \"name\": \"summarize\",\n",
    "            \"description\": \"summarize the user response and ask if they would like to proceed\",\n",
    "            \"parameters\": {\n",
    "                'title': 'AI response',\n",
    "                'type': 'object',\n",
    "                'properties': {'summary': {'title': 'summary', 'type': 'string'}},\n",
    "                'required': ['summary']\n",
    "            }\n",
    "        }\n",
    "    ],\n",
    "    function_call={\"name\": \"summarize\"}\n",
    ")\n",
    "print(res.choices[0][\"message\"][\"function_call\"][\"arguments\"])"
   ]
  },
  {
   "cell_type": "code",
   "execution_count": 48,
   "metadata": {},
   "outputs": [
    {
     "data": {
      "text/plain": [
       "'You want to update John Snow to Jon Dowe. Would you like to proceed?'"
      ]
     },
     "execution_count": 48,
     "metadata": {},
     "output_type": "execute_result"
    }
   ],
   "source": [
    "def ask_to_proceed(prompt):\n",
    "    return json.loads(openai.ChatCompletion.create(\n",
    "        model=\"gpt-3.5-turbo-0613\",\n",
    "        messages=[\n",
    "            {\"role\": \"assistant\",\n",
    "                \"content\": \"rephrase the user response and ask them if they would like to proceed\"},\n",
    "            {\"role\": \"user\", \"content\": prompt}\n",
    "        ],\n",
    "        functions=[\n",
    "            {\n",
    "                \"name\": \"summarize\",\n",
    "                \"description\": \"summarize the user response and ask if they would like to proceed\",\n",
    "                \"parameters\": {\n",
    "                    'title': 'AI response',\n",
    "                    'type': 'object',\n",
    "                    'properties': {'summary': {'title': 'summary', 'type': 'string'}},\n",
    "                    'required': ['summary']\n",
    "                }\n",
    "            }\n",
    "        ],\n",
    "        function_call={\"name\": \"summarize\"}\n",
    "    ).choices[0][\"message\"][\"function_call\"][\"arguments\"])[\"summary\"]\n",
    "\n",
    "\n",
    "ask_to_proceed(\"update john snow to jon dowe\")"
   ]
  },
  {
   "cell_type": "code",
   "execution_count": 51,
   "metadata": {},
   "outputs": [
    {
     "data": {
      "text/plain": [
       "'I am the greatest in the world'"
      ]
     },
     "execution_count": 51,
     "metadata": {},
     "output_type": "execute_result"
    }
   ],
   "source": [
    "def generate_variations(prompt):\n",
    "    return json.loads(openai.ChatCompletion.create(\n",
    "        model=\"gpt-3.5-turbo-0613\",\n",
    "        messages=[\n",
    "            {\"role\": \"assistant\",\n",
    "                \"content\": \"generate a variation of the users response by rephrasing the response\"},\n",
    "            {\"role\": \"user\", \"content\": prompt}\n",
    "        ],\n",
    "        functions=[\n",
    "            {\n",
    "                \"name\": \"variations\",\n",
    "                \"description\": \"generate a variation of the users response\",\n",
    "                \"parameters\": {\n",
    "                    'title': 'variation of response',\n",
    "                    'type': 'object',\n",
    "                    'properties': {'variation': {'title': 'variation', 'type': 'string'}},\n",
    "                    'required': ['variation']\n",
    "                }\n",
    "            }\n",
    "        ],\n",
    "        function_call={\"name\": \"variations\"}\n",
    "    ).choices[0][\"message\"][\"function_call\"][\"arguments\"])[\"variation\"]\n",
    "\n",
    "\n",
    "generate_variations(\"I am the best in the world\")"
   ]
  },
  {
   "cell_type": "code",
   "execution_count": 57,
   "metadata": {},
   "outputs": [
    {
     "data": {
      "text/plain": [
       "'last_name'"
      ]
     },
     "execution_count": 57,
     "metadata": {},
     "output_type": "execute_result"
    }
   ],
   "source": [
    "def field_to_update(prompt):\n",
    "    response = openai.ChatCompletion.create(\n",
    "        model=\"gpt-3.5-turbo-0613\",\n",
    "        messages=[\n",
    "            {\"role\": \"assistant\",\n",
    "                \"content\": \"User the users response and extract only one pythonic field name that the user would like to change \"},\n",
    "            {\"role\": \"user\", \"content\": prompt}\n",
    "        ],\n",
    "        functions=[\n",
    "            {\n",
    "                \"name\": \"field_extractor\",\n",
    "                \"description\": \"extract the most lifely pythonic field name that the user would like to modify\",\n",
    "                \"parameters\": {\n",
    "                    'title': 'user field snake case',\n",
    "                    'type': 'object',\n",
    "                    'properties': {'field': {'title': 'field', 'type': 'string'}},\n",
    "                    'required': ['field']\n",
    "                }\n",
    "            }\n",
    "        ],\n",
    "        function_call={\"name\": \"field_extractor\"}\n",
    "    ).choices[0][\"message\"][\"function_call\"][\"arguments\"]\n",
    "    return json.loads(response)[\"field\"]\n",
    "\n",
    "\n",
    "field_to_update(\"change john dowe's last name to john snow\")"
   ]
  }
 ],
 "metadata": {
  "kernelspec": {
   "display_name": "chat",
   "language": "python",
   "name": "python3"
  },
  "language_info": {
   "codemirror_mode": {
    "name": "ipython",
    "version": 3
   },
   "file_extension": ".py",
   "mimetype": "text/x-python",
   "name": "python",
   "nbconvert_exporter": "python",
   "pygments_lexer": "ipython3",
   "version": "3.11.4"
  },
  "orig_nbformat": 4
 },
 "nbformat": 4,
 "nbformat_minor": 2
}
