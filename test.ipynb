{
 "cells": [
  {
   "cell_type": "code",
   "execution_count": 2,
   "metadata": {},
   "outputs": [],
   "source": [
    "import os\n",
    "import openai\n",
    "\n",
    "from dotenv import load_dotenv\n",
    "load_dotenv() \n",
    "\n",
    "openai.api_key = os.getenv(\"OPENAI_API_KEY\")"
   ]
  },
  {
   "cell_type": "code",
   "execution_count": null,
   "metadata": {},
   "outputs": [],
   "source": [
    "res = openai.ChatCompletion.create(\n",
    "    model=\"gpt-3.5-turbo-0613\",\n",
    "    messages=[\n",
    "        {\"role\": \"user\", \"content\": \"Hi my name is Earl, how are you?\"}\n",
    "    ],\n",
    "    functions=[\n",
    "\n",
    "        {\n",
    "            \"name\": \"translateToSpanish\",\n",
    "            \"description\": \"Translate to spanish\",\n",
    "            \"parameters\": {\n",
    "                'title': 'StepByStepAIResponse',\n",
    "                'type': 'object',\n",
    "                'properties': {'english': {'title': 'english', 'type': 'string'},\n",
    "                               'spanish': {'title': 'spanish', 'type': 'string'}},\n",
    "                'required': ['english', 'spanish']\n",
    "            }\n",
    "        }\n",
    "    ],\n",
    "    function_call={\"name\": \"translateToSpanish\"}\n",
    ")"
   ]
  },
  {
   "cell_type": "code",
   "execution_count": null,
   "metadata": {},
   "outputs": [],
   "source": [
    "print(res.choices[0][\"message\"][\"function_call\"][\"arguments\"])"
   ]
  },
  {
   "attachments": {},
   "cell_type": "markdown",
   "metadata": {},
   "source": [
    "first step is to get intent or http verb\n",
    "extract the target\n",
    "query the database for target\n",
    "extract params\n",
    "build the api call\n",
    "confirmwith the user\n",
    "call the api\n",
    "display api call status"
   ]
  },
  {
   "attachments": {},
   "cell_type": "markdown",
   "metadata": {},
   "source": [
    "Here I can extract the HTTP VERB from the context, might need to adjust to work well with UKG's APIs"
   ]
  },
  {
   "cell_type": "code",
   "execution_count": 38,
   "metadata": {},
   "outputs": [
    {
     "name": "stdout",
     "output_type": "stream",
     "text": [
      "{\n",
      "  \"verb\": \"GET\"\n",
      "}\n"
     ]
    }
   ],
   "source": [
    "res = openai.ChatCompletion.create(\n",
    "    model=\"gpt-3.5-turbo-0613\",\n",
    "    messages=[\n",
    "        {\"role\":\"assistant\",\"content\":\"Only respond in HTTP Verbs such as GET, POST, PUT and DELETE\"},\n",
    "        {\"role\": \"user\", \"content\": \"Who is John Snow?\"}\n",
    "    ],\n",
    "    functions=[\n",
    "\n",
    "        {\n",
    "            \"name\": \"promptToHTTPVerb\",\n",
    "            \"description\": \"Extract the http verb from the string and return only a single http verb\",\n",
    "            \"parameters\": {\n",
    "                'title': 'Single AI Response',\n",
    "                'type': 'object',\n",
    "                'properties': {'verb': {'title': 'verb', 'type': 'string'}},\n",
    "                'required': ['verb']\n",
    "            }\n",
    "        }\n",
    "    ],\n",
    "    function_call={\"name\": \"promptToHTTPVerb\"}\n",
    ")\n",
    "print(res.choices[0][\"message\"][\"function_call\"][\"arguments\"])\n"
   ]
  },
  {
   "cell_type": "code",
   "execution_count": 7,
   "metadata": {},
   "outputs": [],
   "source": [
    "def promptToHTTPVerb(prompt):\n",
    "    return openai.ChatCompletion.create(\n",
    "        model=\"gpt-3.5-turbo-0613\",\n",
    "        messages=[\n",
    "            {\"role\": \"assistant\",\n",
    "                \"content\": \"Only respond in HTTP Verbs such as GET, POST, PUT and DELETE\"},\n",
    "            {\"role\": \"user\", \"content\": prompt}\n",
    "        ],\n",
    "        functions=[\n",
    "\n",
    "            {\n",
    "                \"name\": \"promptToHTTPVerb\",\n",
    "                \"description\": \"Extract the http verb from the string and return only a single http verb\",\n",
    "                \"parameters\": {\n",
    "                    'title': 'Single AI Response',\n",
    "                    'type': 'object',\n",
    "                    'properties': {'verb': {'title': 'verb', 'type': 'string'}},\n",
    "                    'required': ['verb']\n",
    "                }\n",
    "            }\n",
    "        ],\n",
    "        function_call={\"name\": \"promptToHTTPVerb\"}\n",
    "    ).choices[0][\"message\"][\"function_call\"][\"arguments\"]\n"
   ]
  },
  {
   "attachments": {},
   "cell_type": "markdown",
   "metadata": {},
   "source": [
    "Here I can extract the subject of the users reply"
   ]
  },
  {
   "cell_type": "code",
   "execution_count": null,
   "metadata": {},
   "outputs": [],
   "source": [
    "res = openai.ChatCompletion.create(\n",
    "    model=\"gpt-3.5-turbo-0613\",\n",
    "    messages=[\n",
    "        {\"role\":\"assistant\",\"content\":\"Only respond with the name of the subject of the message.\"},\n",
    "        {\"role\": \"user\", \"content\": \"My name is Kunta Kinte, Who is John Snow?\"}\n",
    "    ],\n",
    "    functions=[\n",
    "        {\n",
    "            \"name\": \"extractSubject\",\n",
    "            \"description\": \"Extract the subject of a users reply\",\n",
    "            \"parameters\": {\n",
    "                'title': 'Single AI Response',\n",
    "                'type': 'object',\n",
    "                'properties': {'subject': {'title': 'subject', 'type': 'string'}},\n",
    "                'required': ['subject']\n",
    "            }\n",
    "        }\n",
    "    ],\n",
    "    function_call={\"name\": \"extractSubject\"}\n",
    ")\n",
    "print(res.choices[0][\"message\"][\"function_call\"][\"arguments\"])"
   ]
  },
  {
   "attachments": {},
   "cell_type": "markdown",
   "metadata": {},
   "source": [
    "Here I try to generate the params fo send a get request to the UKG API"
   ]
  },
  {
   "cell_type": "code",
   "execution_count": null,
   "metadata": {},
   "outputs": [],
   "source": [
    "res = openai.ChatCompletion.create(\n",
    "    model=\"gpt-3.5-turbo-0613\",\n",
    "    messages=[\n",
    "        {\"role\": \"system\", \"content\": \"Only respond with the name of the subject of the message.\"},\n",
    "        {\"role\": \"user\", \"content\": \"My name is Kunta Kinte, Who is John Snow?\"}\n",
    "    ],\n",
    "    functions=[\n",
    "        {\n",
    "            \"name\": \"generateParamsObject\",\n",
    "            \"description\": \"Generate an object that stores the firstName and LastName\",\n",
    "            \"parameters\": {\n",
    "                'title': 'Single AI Response',\n",
    "                'type': 'object',\n",
    "                'properties': {\n",
    "                    'firstName': {'title': 'firstName', 'type': 'string'}, \n",
    "                    'lastName': {'title': 'lastName', 'type': 'string'}\n",
    "                    },\n",
    "                'required': ['firstName', 'lastName']\n",
    "            }\n",
    "        }\n",
    "    ],\n",
    "    function_call={\"name\": \"generateParamsObject\"}\n",
    ")\n",
    "print(res.choices[0][\"message\"][\"function_call\"][\"arguments\"])\n"
   ]
  },
  {
   "cell_type": "code",
   "execution_count": null,
   "metadata": {},
   "outputs": [],
   "source": [
    "import requests\n",
    "\n",
    "def get_employee_data(first_name, last_name):\n",
    "    base_url = \"https://api.ukg.com/employee\"\n",
    "    api_key = \"YOUR_API_KEY\"  # Replace with your actual API key\n",
    "\n",
    "    headers = {\n",
    "        \"Authorization\": f\"Bearer {api_key}\",\n",
    "        \"Content-Type\": \"application/json\"\n",
    "    }\n",
    "\n",
    "    params = {\n",
    "        \"firstName\": first_name,\n",
    "        \"lastName\": last_name\n",
    "    }\n",
    "\n",
    "    try:\n",
    "        response = requests.get(base_url, headers=headers, params=params)\n",
    "        response.raise_for_status()\n",
    "        data = response.json()\n",
    "        return data\n",
    "    except requests.exceptions.RequestException as e:\n",
    "        print(f\"An error occurred: {e}\")\n",
    "        return None\n",
    "\n",
    "# Example usage\n",
    "employee_data = get_employee_data(\"John\", \"Snow\")\n",
    "\n",
    "if employee_data:\n",
    "    # Process the employee data\n",
    "    print(\"Employee Data:\")\n",
    "    print(f\"Name: {employee_data['name']}\")\n",
    "    print(f\"Department: {employee_data['department']}\")\n",
    "    # Add more fields as needed\n",
    "else:\n",
    "    print(\"No employee data found for the given name.\")\n"
   ]
  },
  {
   "cell_type": "code",
   "execution_count": 62,
   "metadata": {},
   "outputs": [
    {
     "name": "stdout",
     "output_type": "stream",
     "text": [
      "{\n",
      "  \"boolean\": false\n",
      "}\n"
     ]
    }
   ],
   "source": [
    "res = openai.ChatCompletion.create(\n",
    "    model=\"gpt-3.5-turbo-0613\",\n",
    "    messages=[\n",
    "        {\"role\":\"assistant\",\"content\":'''Only respond with 'true' or 'false' given a user message.\n",
    "         if user response is nope, then respond false,if user response is no, then respond false,'''},\n",
    "        {\"role\": \"user\", \"content\": \"heck no\"}\n",
    "    ],\n",
    "    functions=[\n",
    "        {\n",
    "            \"name\": \"trueOrFalse\",\n",
    "            \"description\": \"return 'true' if response is positive or affirmative, return 'false' if response is not positive or affirmative\",\n",
    "            \"parameters\": {\n",
    "                'title': 'true/false response',\n",
    "                'type': 'object',\n",
    "                'properties': {'boolean': {'title': 'boolean', 'type': 'boolean'}},\n",
    "                'required': ['boolean']\n",
    "            }\n",
    "        }\n",
    "    ],\n",
    "    function_call={\"name\": \"trueOrFalse\"}\n",
    ")\n",
    "print(res.choices[0][\"message\"][\"function_call\"][\"arguments\"])"
   ]
  },
  {
   "cell_type": "code",
   "execution_count": 8,
   "metadata": {},
   "outputs": [
    {
     "name": "stdout",
     "output_type": "stream",
     "text": [
      "{\n",
      "  \"verb\": \"update\"\n",
      "}\n",
      "[{'role': 'system', 'content': 'you are a helpful assistant'}, {'role': 'assistant', 'content': 'How may I help you'}, {'role': 'user', 'content': 'update jhon showa profile'}, {'role': 'assistant', 'content': \"I'm sorry, but as an AI assistant, I do not have the capability to update someone's profile. However, if you need guidance on how to update a profile on a specific platform or website, I can certainly assist you with that. Please provide more details on the specific platform or website you are referring to.\"}]\n"
     ]
    }
   ],
   "source": [
    "chats = [\n",
    "    {\"role\": \"system\", \"content\": \"you are a helpful assistant\"},\n",
    "    {\"role\": \"assistant\", \"content\": \"How may I help you\"},\n",
    "]\n",
    "\n",
    "\n",
    "while True:\n",
    "\n",
    "    prompt = input(\"What do you want\")\n",
    "    chats.append({\"role\": \"user\", \"content\": prompt})\n",
    "\n",
    "    verb = promptToHTTPVerb(prompt)\n",
    "    print(verb)\n",
    "\n",
    "    completion = openai.ChatCompletion.create(\n",
    "        model=\"gpt-3.5-turbo\",\n",
    "        messages=chats\n",
    "    )\n",
    "\n",
    "    chats.append({\"role\": \"assistant\", \"content\": completion.choices[0].message.content})\n",
    "    print(chats)\n",
    "    break\n"
   ]
  }
 ],
 "metadata": {
  "kernelspec": {
   "display_name": "chat",
   "language": "python",
   "name": "python3"
  },
  "language_info": {
   "codemirror_mode": {
    "name": "ipython",
    "version": 3
   },
   "file_extension": ".py",
   "mimetype": "text/x-python",
   "name": "python",
   "nbconvert_exporter": "python",
   "pygments_lexer": "ipython3",
   "version": "3.11.4"
  },
  "orig_nbformat": 4
 },
 "nbformat": 4,
 "nbformat_minor": 2
}
